{
  "nbformat": 4,
  "nbformat_minor": 0,
  "metadata": {
    "colab": {
      "provenance": [],
      "authorship_tag": "ABX9TyM7j8dKh5ZEfFflXWIfg3Kk",
      "include_colab_link": true
    },
    "kernelspec": {
      "name": "python3",
      "display_name": "Python 3"
    },
    "language_info": {
      "name": "python"
    }
  },
  "cells": [
    {
      "cell_type": "markdown",
      "metadata": {
        "id": "view-in-github",
        "colab_type": "text"
      },
      "source": [
        "<a href=\"https://colab.research.google.com/github/Irenekayla/ML_Notebooks/blob/main/neural_network.ipynb\" target=\"_parent\"><img src=\"https://colab.research.google.com/assets/colab-badge.svg\" alt=\"Open In Colab\"/></a>"
      ]
    },
    {
      "cell_type": "code",
      "execution_count": 1,
      "metadata": {
        "id": "iw4r94hzeRjT"
      },
      "outputs": [],
      "source": [
        "import numpy as np\n",
        "import pandas as pd\n",
        "import warnings\n",
        "\n",
        "warnings.filterwarnings('ignore')\n",
        "\n",
        "# Generating synthetic data\n",
        "np.random.seed(0)\n",
        "data_size = 200\n",
        "features = np.random.rand(data_size, 2)  # Two features: visit duration and pages visited\n",
        "labels = (features[:, 0] + features[:, 1] > 1).astype(int)  # Purchase (1) or not (0)\n",
        "\n",
        "# Convert to DataFrame for easier manipulation\n",
        "df = pd.DataFrame(features, columns=['VisitDuration', 'PagesVisited'])\n",
        "df['Purchase'] = labels"
      ]
    },
    {
      "cell_type": "code",
      "source": [
        "from sklearn.model_selection import train_test_split\n",
        "\n",
        "# Split the data\n",
        "X_train, X_test, y_train, y_test = train_test_split(df[['VisitDuration', 'PagesVisited']], df['Purchase'], test_size=0.2, random_state=42)"
      ],
      "metadata": {
        "id": "rletv1i4fXZ-"
      },
      "execution_count": 2,
      "outputs": []
    },
    {
      "cell_type": "code",
      "source": [
        "import tensorflow as tf\n",
        "from tensorflow.keras.models import Sequential\n",
        "from tensorflow.keras.layers import Dense\n",
        "\n",
        "# Define the model\n",
        "model = Sequential([\n",
        "    Dense(10, activation='relu', input_shape=(2,)),  # Input layer with 2 features\n",
        "    Dense(1, activation='sigmoid')  # Output layer with sigmoid activation for binary classification\n",
        "])\n",
        "\n",
        "# Compile the model\n",
        "model.compile(optimizer='adam', loss='binary_crossentropy', metrics=['accuracy'])\n",
        "\n",
        "# Train the model\n",
        "model.fit(X_train, y_train, epochs=10, batch_size=10)"
      ],
      "metadata": {
        "colab": {
          "base_uri": "https://localhost:8080/"
        },
        "id": "kGPMvnXEfZAj",
        "outputId": "d1f13963-71e7-46ee-f044-dbe3739fe7bd"
      },
      "execution_count": 3,
      "outputs": [
        {
          "output_type": "stream",
          "name": "stdout",
          "text": [
            "Epoch 1/10\n",
            "16/16 [==============================] - 1s 2ms/step - loss: 0.6693 - accuracy: 0.5625\n",
            "Epoch 2/10\n",
            "16/16 [==============================] - 0s 2ms/step - loss: 0.6653 - accuracy: 0.5688\n",
            "Epoch 3/10\n",
            "16/16 [==============================] - 0s 2ms/step - loss: 0.6618 - accuracy: 0.6062\n",
            "Epoch 4/10\n",
            "16/16 [==============================] - 0s 2ms/step - loss: 0.6579 - accuracy: 0.6375\n",
            "Epoch 5/10\n",
            "16/16 [==============================] - 0s 2ms/step - loss: 0.6545 - accuracy: 0.6500\n",
            "Epoch 6/10\n",
            "16/16 [==============================] - 0s 2ms/step - loss: 0.6513 - accuracy: 0.6812\n",
            "Epoch 7/10\n",
            "16/16 [==============================] - 0s 2ms/step - loss: 0.6473 - accuracy: 0.7000\n",
            "Epoch 8/10\n",
            "16/16 [==============================] - 0s 2ms/step - loss: 0.6437 - accuracy: 0.7063\n",
            "Epoch 9/10\n",
            "16/16 [==============================] - 0s 2ms/step - loss: 0.6398 - accuracy: 0.7250\n",
            "Epoch 10/10\n",
            "16/16 [==============================] - 0s 2ms/step - loss: 0.6356 - accuracy: 0.7375\n"
          ]
        },
        {
          "output_type": "execute_result",
          "data": {
            "text/plain": [
              "<keras.src.callbacks.History at 0x7aa4787bd150>"
            ]
          },
          "metadata": {},
          "execution_count": 3
        }
      ]
    },
    {
      "cell_type": "code",
      "source": [
        "\n",
        "loss, accuracy = model.evaluate(X_test, y_test)\n",
        "print(f\"Test Accuracy: {accuracy}\")"
      ],
      "metadata": {
        "colab": {
          "base_uri": "https://localhost:8080/"
        },
        "id": "1bUwv4GXffHH",
        "outputId": "975f5be4-b7a3-412e-c04f-2a18f4874663"
      },
      "execution_count": 4,
      "outputs": [
        {
          "output_type": "stream",
          "name": "stdout",
          "text": [
            "2/2 [==============================] - 0s 11ms/step - loss: 0.6158 - accuracy: 0.7750\n",
            "Test Accuracy: 0.7749999761581421\n"
          ]
        }
      ]
    }
  ]
}