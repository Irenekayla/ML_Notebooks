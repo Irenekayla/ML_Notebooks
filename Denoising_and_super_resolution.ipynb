{
  "nbformat": 4,
  "nbformat_minor": 0,
  "metadata": {
    "colab": {
      "provenance": [],
      "authorship_tag": "ABX9TyOJ9rdVzQ/odFVUOSZL6lC8",
      "include_colab_link": true
    },
    "kernelspec": {
      "name": "python3",
      "display_name": "Python 3"
    },
    "language_info": {
      "name": "python"
    }
  },
  "cells": [
    {
      "cell_type": "markdown",
      "metadata": {
        "id": "view-in-github",
        "colab_type": "text"
      },
      "source": [
        "<a href=\"https://colab.research.google.com/github/Irenekayla/ML_Notebooks/blob/main/Denoising_and_super_resolution.ipynb\" target=\"_parent\"><img src=\"https://colab.research.google.com/assets/colab-badge.svg\" alt=\"Open In Colab\"/></a>"
      ]
    },
    {
      "cell_type": "code",
      "execution_count": 1,
      "metadata": {
        "id": "f03i5T9zFG7J"
      },
      "outputs": [],
      "source": [
        "import numpy as np\n",
        "import matplotlib.pyplot as plt\n",
        "from skimage import data, img_as_float\n",
        "from skimage.metrics import peak_signal_noise_ratio, structural_similarity\n",
        "from google.colab import drive\n",
        "import cv2\n",
        "import os"
      ]
    },
    {
      "cell_type": "code",
      "source": [
        "import tensorflow as tf\n",
        "from tensorflow.keras.layers import Input, Conv2D, MaxPooling2D, UpSampling2D\n",
        "from tensorflow.keras.models import Model\n"
      ],
      "metadata": {
        "id": "_vqqFSyOSzYZ"
      },
      "execution_count": 2,
      "outputs": []
    },
    {
      "cell_type": "code",
      "source": [
        "drive.mount('/content/drive')\n",
        "\n",
        "dataset_path = '/content/drive/MyDrive/ICIP training data'"
      ],
      "metadata": {
        "colab": {
          "base_uri": "https://localhost:8080/",
          "height": 0
        },
        "id": "_EUI91MbFtYM",
        "outputId": "e61ae25c-29be-4644-cf8b-b0d97c491812"
      },
      "execution_count": 3,
      "outputs": [
        {
          "output_type": "stream",
          "name": "stdout",
          "text": [
            "Mounted at /content/drive\n"
          ]
        }
      ]
    },
    {
      "cell_type": "code",
      "source": [
        "input_img = Input(shape=(300, 300, 1))\n",
        "\n",
        "\n",
        "x = Conv2D(32, (3, 3), activation='relu', padding='same')(input_img)\n",
        "x = MaxPooling2D((2, 2), padding='same')(x)\n",
        "x = Conv2D(64, (3, 3), activation='relu', padding='same')(x)\n",
        "x = MaxPooling2D((2, 2), padding='same')(x)\n",
        "encoded = Conv2D(128, (3, 3), activation='relu', padding='same')(x)\n",
        "\n",
        "\n",
        "x = Conv2D(64, (3, 3), activation='relu', padding='same')(encoded)\n",
        "x = UpSampling2D((2, 2))(x)\n",
        "x = Conv2D(32, (3, 3), activation='relu', padding='same')(x)\n",
        "x = UpSampling2D((2, 2))(x)\n",
        "decoded = Conv2D(1, (3, 3), activation='sigmoid', padding='same')(x)\n",
        "autoencoder = Model(input_img, decoded)\n",
        "autoencoder.compile(optimizer='adam', loss='binary_crossentropy')"
      ],
      "metadata": {
        "id": "-v5PUvZ2R9I1"
      },
      "execution_count": 4,
      "outputs": []
    },
    {
      "cell_type": "code",
      "source": [
        "def calculate_msr(image):\n",
        "    mean = np.mean(image)\n",
        "    std_dev = np.std(image)\n",
        "    return mean / std_dev\n",
        "\n",
        "# Function to calculate CNR (Contrast-to-Noise Ratio)\n",
        "def calculate_cnr(image, background_roi, foreground_roi):\n",
        "    background_mean = np.mean(image[background_roi])\n",
        "    background_std = np.std(image[background_roi])\n",
        "    foreground_mean = np.mean(image[foreground_roi])\n",
        "    foreground_std = np.std(image[foreground_roi])\n",
        "    return (foreground_mean - background_mean) / (0.5 * (background_std + foreground_std))\n"
      ],
      "metadata": {
        "id": "XfQhOR8HWo5g"
      },
      "execution_count": 11,
      "outputs": []
    },
    {
      "cell_type": "code",
      "source": [
        "for file in os.listdir(dataset_path):\n",
        "    if file.endswith('.tiff'):\n",
        "        # Load the OCT B-scan\n",
        "        image = cv2.imread(os.path.join(dataset_path, file), cv2.IMREAD_GRAYSCALE)\n",
        "\n",
        "        # De-noising task\n",
        "        denoised_image = autoencoder.predict(image.reshape(1, 300, 300, 1))\n",
        "\n",
        "        # Calculate evaluation metrics for de-noising\n",
        "        msr = calculate_msr(denoised_image)\n",
        "        cnr = calculate_cnr(denoised_image, background_roi, foreground_roi)"
      ],
      "metadata": {
        "id": "EIasLcdAFkwz"
      },
      "execution_count": 21,
      "outputs": []
    },
    {
      "cell_type": "code",
      "source": [
        "print(f'File: {file}')\n",
        "print(f'De-noising MSR: {msr}')\n",
        "print(f'De-noising CNR: {cnr}')"
      ],
      "metadata": {
        "colab": {
          "base_uri": "https://localhost:8080/",
          "height": 193
        },
        "id": "RWUULdkoSmmk",
        "outputId": "51d21a3b-06aa-4e95-da3b-eb13b0cb560a"
      },
      "execution_count": 22,
      "outputs": [
        {
          "output_type": "stream",
          "name": "stdout",
          "text": [
            "File: 1\n"
          ]
        },
        {
          "output_type": "error",
          "ename": "NameError",
          "evalue": "name 'msr' is not defined",
          "traceback": [
            "\u001b[0;31m---------------------------------------------------------------------------\u001b[0m",
            "\u001b[0;31mNameError\u001b[0m                                 Traceback (most recent call last)",
            "\u001b[0;32m<ipython-input-22-90d5de41a7b8>\u001b[0m in \u001b[0;36m<cell line: 2>\u001b[0;34m()\u001b[0m\n\u001b[1;32m      1\u001b[0m \u001b[0mprint\u001b[0m\u001b[0;34m(\u001b[0m\u001b[0;34mf'File: {file}'\u001b[0m\u001b[0;34m)\u001b[0m\u001b[0;34m\u001b[0m\u001b[0;34m\u001b[0m\u001b[0m\n\u001b[0;32m----> 2\u001b[0;31m \u001b[0mprint\u001b[0m\u001b[0;34m(\u001b[0m\u001b[0;34mf'De-noising MSR: {msr}'\u001b[0m\u001b[0;34m)\u001b[0m\u001b[0;34m\u001b[0m\u001b[0;34m\u001b[0m\u001b[0m\n\u001b[0m\u001b[1;32m      3\u001b[0m \u001b[0mprint\u001b[0m\u001b[0;34m(\u001b[0m\u001b[0;34mf'De-noising CNR: {cnr}'\u001b[0m\u001b[0;34m)\u001b[0m\u001b[0;34m\u001b[0m\u001b[0;34m\u001b[0m\u001b[0m\n",
            "\u001b[0;31mNameError\u001b[0m: name 'msr' is not defined"
          ]
        }
      ]
    }
  ]
}